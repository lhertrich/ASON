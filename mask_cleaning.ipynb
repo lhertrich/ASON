{
 "cells": [
  {
   "cell_type": "code",
   "execution_count": 1,
   "id": "26748257",
   "metadata": {},
   "outputs": [],
   "source": [
    "import tifffile\n",
    "import numpy as np\n",
    "import matplotlib.pyplot as plt\n",
    "import os\n",
    "from csbdeep.utils import normalize\n",
    "from stardist.models import StarDist2D\n",
    "from stardist.plot import render_label"
   ]
  },
  {
   "cell_type": "code",
   "execution_count": 2,
   "id": "59633909",
   "metadata": {},
   "outputs": [
    {
     "data": {
      "text/plain": [
       "['data/images/CTRL_1_M1_3R__0004.tif',\n",
       " 'data/images/CTRL_4_M6_3L__0008.tif',\n",
       " 'data/images/E2+DHT_1_M13_3L_0001.tif',\n",
       " 'data/images/E2+DHT_2_M10_3R_0002.tif',\n",
       " 'data/images/E2+P4+DHT_1_M7_3L_0013.tif',\n",
       " 'data/images/E2+P4+DHT_1_M7_3L_0019.tif',\n",
       " 'data/images/E2+P4_2_M9_3R_0003.tif',\n",
       " 'data/images/E2+P4_3_M12_3R_0002.tif',\n",
       " 'data/images/E2_1_M8_3L_0011.tif',\n",
       " 'data/images/E2_2_M11_4R_0001.tif']"
      ]
     },
     "execution_count": 2,
     "metadata": {},
     "output_type": "execute_result"
    }
   ],
   "source": [
    "image_paths = sorted([\"data/images/\"+path for path in os.listdir(\"data/images\") if not path.startswith(\".\")])\n",
    "image_paths"
   ]
  },
  {
   "cell_type": "code",
   "execution_count": 3,
   "id": "a69f9c97",
   "metadata": {},
   "outputs": [
    {
     "data": {
      "text/plain": [
       "['data/masks/CTRL_1_M1_3R__0004_mask.tif',\n",
       " 'data/masks/CTRL_4_M6_3L__0008_mask.ome.tif',\n",
       " 'data/masks/E2+DHT_1_M13_3L_0001_mask.ome.tif',\n",
       " 'data/masks/E2+DHT_2_M10_3R_0002_mask.ome.tif',\n",
       " 'data/masks/E2+P4+DHT_1_M7_3L_0013_mask.ome.tif',\n",
       " 'data/masks/E2+P4+DHT_1_M7_3L_0019_mask.ome.tif',\n",
       " 'data/masks/E2+P4_2_M9_3R_0003_mask.ome.tif',\n",
       " 'data/masks/E2+P4_3_M12_3R_0002_mask.ome.tif',\n",
       " 'data/masks/E2_1_M8_3L_0011_mask.ome.tif',\n",
       " 'data/masks/E2_2_M11_4R_0001_mask.ome.tif']"
      ]
     },
     "execution_count": 3,
     "metadata": {},
     "output_type": "execute_result"
    }
   ],
   "source": [
    "mask_paths = sorted([\"data/masks/\"+path for path in os.listdir(\"data/masks\") if not path.startswith(\".\")])\n",
    "mask_paths"
   ]
  },
  {
   "cell_type": "code",
   "execution_count": 34,
   "id": "9a307c1e",
   "metadata": {},
   "outputs": [],
   "source": [
    "# images = list(map(tifffile.imread, image_paths))\n",
    "# masks = list(map(tifffile.imread, mask_paths))\n",
    "# data = list(zip(images, masks))\n",
    "\n",
    "# plt.figure(figsize=(20, 10))\n",
    "\n",
    "# plt.subplot(1, 2, 1)\n",
    "# plt.imshow(data[0][0])\n",
    "# plt.axis(\"off\")\n",
    "# plt.title(\"Image\")\n",
    "\n",
    "# plt.subplot(1, 2, 2)\n",
    "# plt.imshow(data[0][1])\n",
    "# plt.axis(\"off\")\n",
    "# plt.title(\"mask\")"
   ]
  },
  {
   "cell_type": "code",
   "execution_count": 24,
   "id": "72ef2bee",
   "metadata": {},
   "outputs": [],
   "source": [
    "test_image = data[0][0]\n",
    "test_mask = data[0][1]"
   ]
  },
  {
   "cell_type": "code",
   "execution_count": 25,
   "id": "61ac7dc1",
   "metadata": {},
   "outputs": [
    {
     "name": "stdout",
     "output_type": "stream",
     "text": [
      "Mask dtype: uint8\n",
      "Unique values in mask: [0 1]\n"
     ]
    }
   ],
   "source": [
    "print(\"Mask dtype:\", test_mask.dtype)\n",
    "print(\"Unique values in mask:\", np.unique(test_mask))"
   ]
  },
  {
   "cell_type": "code",
   "execution_count": 26,
   "id": "b904af6c",
   "metadata": {},
   "outputs": [
    {
     "name": "stdout",
     "output_type": "stream",
     "text": [
      "\n",
      "Object sizes: [1.0, 1.0, 2.0, 3.0, 3.0, 3.0, 4.0, 4.0, 4.0, 4.0, 5.0, 5.0, 5.0, 6.0, 6.0, 6.0, 6.0, 7.0, 7.0, 7.0, 7.0, 8.0, 8.0, 8.0, 9.0, 9.0, 9.0, 9.0, 9.0, 10.0, 10.0, 10.0, 10.0, 10.0, 11.0, 11.0, 11.0, 12.0, 12.0, 14.0, 14.0, 15.0, 15.0, 16.0, 18.0, 18.0, 18.0, 20.0, 20.0, 20.0, 20.0, 21.0, 21.0, 28.0, 31.0, 35.0, 37.0, 43.0, 45.0, 79.0, 163.0, 285.0, 374.0, 5073.0]\n"
     ]
    }
   ],
   "source": [
    "# Get sizes of all objects\n",
    "from skimage import measure\n",
    "labels = measure.label(test_mask)\n",
    "props = measure.regionprops(labels)\n",
    "sizes = [prop.area for prop in props]\n",
    "print(\"\\nObject sizes:\", sorted(sizes))"
   ]
  },
  {
   "cell_type": "code",
   "execution_count": 35,
   "id": "6a68a900",
   "metadata": {},
   "outputs": [],
   "source": [
    "\n",
    "\n",
    "# from skimage.morphology import remove_small_objects, remove_small_holes\n",
    "\n",
    "# cleaned_test_mask = remove_small_objects(test_mask.astype(bool), min_size=200)\n",
    "# cleaned_test_mask = remove_small_holes(cleaned_test_mask, area_threshold=10)\n",
    "\n",
    "# plt.figure(figsize=(20, 10))\n",
    "\n",
    "# plt.subplot(1, 2, 1)\n",
    "# plt.imshow(test_mask)\n",
    "# plt.axis(\"off\")\n",
    "# plt.title(\"Mask before cleaning\")\n",
    "\n",
    "# plt.subplot(1, 2, 2)\n",
    "# plt.imshow(cleaned_test_mask)\n",
    "# plt.axis(\"off\")\n",
    "# plt.title(\"Mask after cleaning\")"
   ]
  },
  {
   "cell_type": "code",
   "execution_count": null,
   "id": "dd326b49",
   "metadata": {},
   "outputs": [],
   "source": []
  }
 ],
 "metadata": {
  "kernelspec": {
   "display_name": "research_project",
   "language": "python",
   "name": "python3"
  },
  "language_info": {
   "codemirror_mode": {
    "name": "ipython",
    "version": 3
   },
   "file_extension": ".py",
   "mimetype": "text/x-python",
   "name": "python",
   "nbconvert_exporter": "python",
   "pygments_lexer": "ipython3",
   "version": "3.12.9"
  }
 },
 "nbformat": 4,
 "nbformat_minor": 5
}
