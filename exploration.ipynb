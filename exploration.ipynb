{
 "cells": [
  {
   "cell_type": "code",
   "execution_count": 1,
   "id": "f089de0e",
   "metadata": {},
   "outputs": [],
   "source": [
    "import tifffile\n",
    "import numpy as np\n",
    "import matplotlib.pyplot as plt\n",
    "import os\n",
    "from csbdeep.utils import normalize\n",
    "from stardist.models import StarDist2D\n",
    "from stardist.plot import render_label"
   ]
  },
  {
   "cell_type": "code",
   "execution_count": 2,
   "id": "6ff58c7f",
   "metadata": {},
   "outputs": [
    {
     "name": "stdout",
     "output_type": "stream",
     "text": [
      "Found model '2D_versatile_he' for 'StarDist2D'.\n",
      "Loading network weights from 'weights_best.h5'.\n",
      "Loading thresholds from 'thresholds.json'.\n",
      "Using default values: prob_thresh=0.692478, nms_thresh=0.3.\n"
     ]
    }
   ],
   "source": [
    "model = StarDist2D.from_pretrained('2D_versatile_he')"
   ]
  },
  {
   "cell_type": "code",
   "execution_count": 6,
   "id": "9ff544f6",
   "metadata": {},
   "outputs": [
    {
     "data": {
      "text/plain": [
       "['data/images/E2_2_M11_4R_0001.tif',\n",
       " 'data/images/E2+DHT_2_M10_3R_0002.tif',\n",
       " 'data/images/E2+P4+DHT_1_M7_3L_0013.tif',\n",
       " 'data/images/CTRL_1_M1_3R__0004.tif',\n",
       " 'data/images/CTRL_4_M6_3L__0008.tif',\n",
       " 'data/images/E2+P4_2_M9_3R_0003.tif',\n",
       " 'data/images/E2+DHT_1_M13_3L_0001.tif',\n",
       " 'data/images/E2+P4_3_M12_3R_0002.tif',\n",
       " 'data/images/E2_1_M8_3L_0011.tif',\n",
       " 'data/images/E2+P4+DHT_1_M7_3L_0019.tif']"
      ]
     },
     "execution_count": 6,
     "metadata": {},
     "output_type": "execute_result"
    }
   ],
   "source": [
    "paths = [\"data/images/\"+path for path in os.listdir(\"data/images\") if not path.startswith(\".\")]\n",
    "paths"
   ]
  },
  {
   "cell_type": "code",
   "execution_count": 7,
   "id": "22b021d2",
   "metadata": {},
   "outputs": [
    {
     "name": "stdout",
     "output_type": "stream",
     "text": [
      "(1920, 2560, 3)\n"
     ]
    }
   ],
   "source": [
    "images = list(map(tifffile.imread, paths))\n",
    "test_img = images[0]\n",
    "print(test_img.shape)"
   ]
  },
  {
   "cell_type": "code",
   "execution_count": 8,
   "id": "9c2b600a",
   "metadata": {},
   "outputs": [],
   "source": [
    "# fig, ax = plt.subplots()\n",
    "# ax.axis(False)\n",
    "# ax.imshow(test_img)"
   ]
  },
  {
   "cell_type": "code",
   "execution_count": 6,
   "id": "4491c9db",
   "metadata": {},
   "outputs": [],
   "source": [
    "prob_thresholds = [0.3, 0.5, 0.7]\n",
    "nms_thresholds = [0.1, 0.3, 0.5]"
   ]
  },
  {
   "cell_type": "code",
   "execution_count": 9,
   "id": "4dba7550",
   "metadata": {},
   "outputs": [],
   "source": [
    "# for prob_thresh in prob_thresholds:\n",
    "#     for nms_thresh in nms_thresholds:\n",
    "#         labels, _ = model.predict_instances(normalize(test_img), prob_thresh=prob_thresh, nms_thresh=nms_thresh)\n",
    "\n",
    "#         plt.figure(figsize=(24, 12))\n",
    "\n",
    "#         print(f\"Prob threshold: {prob_thresh}, nms threshold: {nms_thresh}\")\n",
    "\n",
    "#         plt.subplot(1,2,1)\n",
    "#         plt.imshow(test_img, cmap=\"gray\")\n",
    "#         plt.axis(\"off\")\n",
    "#         plt.title(\"input image\")\n",
    "\n",
    "#         plt.subplot(1,2,2)\n",
    "#         plt.imshow(render_label(labels, img=test_img, cmap=(1.0, 1.0, 0), alpha=0.6))\n",
    "#         plt.axis(\"off\")\n",
    "#         plt.title(\"prediction + input overlay\")\n",
    "\n",
    "#         plt.show()"
   ]
  },
  {
   "cell_type": "code",
   "execution_count": 11,
   "id": "9223c167",
   "metadata": {},
   "outputs": [],
   "source": [
    "# second_test_img = images[1]\n",
    "# plt.imshow(second_test_img)"
   ]
  },
  {
   "cell_type": "code",
   "execution_count": 10,
   "id": "41c291f8",
   "metadata": {},
   "outputs": [],
   "source": [
    "# for prob_thresh in prob_thresholds:\n",
    "#     for nms_thresh in nms_thresholds:\n",
    "#         labels, _ = model.predict_instances(normalize(second_test_img), prob_thresh=prob_thresh, nms_thresh=nms_thresh)\n",
    "\n",
    "#         plt.figure(figsize=(24, 12))\n",
    "\n",
    "#         print(f\"Prob threshold: {prob_thresh}, nms threshold: {nms_thresh}\")\n",
    "\n",
    "#         plt.subplot(1,2,1)\n",
    "#         plt.imshow(second_test_img)\n",
    "#         plt.axis(\"off\")\n",
    "#         plt.title(\"input image\")\n",
    "\n",
    "#         plt.subplot(1,2,2)\n",
    "#         plt.imshow(render_label(labels, img=second_test_img, cmap=(1.0, 1.0, 0), alpha=0.6))\n",
    "#         plt.axis(\"off\")\n",
    "#         plt.title(\"prediction + input overlay\")\n",
    "\n",
    "#         plt.show()"
   ]
  },
  {
   "cell_type": "markdown",
   "id": "7fd2480a",
   "metadata": {},
   "source": [
    "### Parameters from previous project"
   ]
  },
  {
   "cell_type": "code",
   "execution_count": 12,
   "id": "c0d3bbe1",
   "metadata": {},
   "outputs": [],
   "source": [
    "# labels_big, _ = model.predict_instances_big(normalize(second_test_img), prob_thresh=0.6, nms_thresh=0.8, n_tiles=(2, 2, 1), block_size=1024, axes='YXC', min_overlap=96, context=96)\n",
    "\n",
    "# labels, _ = model.predict_instances(normalize(second_test_img), prob_thresh=0.3, nms_thresh=0.1)\n",
    "\n",
    "# plt.figure(figsize=(24, 12))\n",
    "\n",
    "# print(f\"Prob threshold: {prob_thresh}, nms threshold: {nms_thresh}\")\n",
    "\n",
    "# plt.subplot(1,3,1)\n",
    "# plt.imshow(second_test_img)\n",
    "# plt.axis(\"off\")\n",
    "# plt.title(\"input image\")\n",
    "\n",
    "# plt.subplot(1,3,2)\n",
    "# plt.imshow(render_label(labels, img=second_test_img, cmap=(1.0, 1.0, 0), alpha=0.6))\n",
    "# plt.axis(\"off\")\n",
    "# plt.title(\"prediction + input overlay\")\n",
    "\n",
    "# plt.subplot(1,3,3)\n",
    "# plt.imshow(render_label(labels_big, img=second_test_img, cmap=(1.0, 1.0, 0), alpha=0.6))\n",
    "# plt.axis(\"off\")\n",
    "# plt.title(\"big prediction + input overlay\")\n",
    "\n",
    "# plt.show()"
   ]
  },
  {
   "cell_type": "code",
   "execution_count": null,
   "id": "bd64cef7",
   "metadata": {},
   "outputs": [],
   "source": []
  }
 ],
 "metadata": {
  "kernelspec": {
   "display_name": "research_project",
   "language": "python",
   "name": "python3"
  },
  "language_info": {
   "codemirror_mode": {
    "name": "ipython",
    "version": 3
   },
   "file_extension": ".py",
   "mimetype": "text/x-python",
   "name": "python",
   "nbconvert_exporter": "python",
   "pygments_lexer": "ipython3",
   "version": "3.12.9"
  }
 },
 "nbformat": 4,
 "nbformat_minor": 5
}
