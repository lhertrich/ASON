{
 "cells": [
  {
   "cell_type": "code",
   "execution_count": null,
   "id": "5add38a4",
   "metadata": {},
   "outputs": [],
   "source": [
    "import tifffile\n",
    "import numpy as np\n",
    "import matplotlib.pyplot as plt\n",
    "import os\n",
    "import pandas as pd\n",
    "\n",
    "from csbdeep.utils import normalize\n",
    "from stardist.models import StarDist2D\n",
    "from stardist.plot import render_label\n",
    "from utils.helpers import clean_mask, cut_out_image\n",
    "from skimage.exposure import rescale_intensity"
   ]
  },
  {
   "cell_type": "code",
   "execution_count": 2,
   "id": "17588ee5",
   "metadata": {},
   "outputs": [
    {
     "name": "stdout",
     "output_type": "stream",
     "text": [
      "Found model '2D_versatile_he' for 'StarDist2D'.\n",
      "Loading network weights from 'weights_best.h5'.\n",
      "Loading thresholds from 'thresholds.json'.\n",
      "Using default values: prob_thresh=0.692478, nms_thresh=0.3.\n"
     ]
    }
   ],
   "source": [
    "model = StarDist2D.from_pretrained('2D_versatile_he')"
   ]
  },
  {
   "cell_type": "code",
   "execution_count": 3,
   "id": "3845ed75",
   "metadata": {},
   "outputs": [],
   "source": [
    "image_paths = sorted([\"data/images/\"+path for path in os.listdir(\"data/images\") if not path.startswith(\".\")])\n",
    "mask_paths = sorted([\"data/masks/\"+path for path in os.listdir(\"data/masks\") if not path.startswith(\".\")])\n",
    "images = list(map(tifffile.imread, image_paths))\n",
    "masks = list(map(tifffile.imread, mask_paths))\n",
    "data = list(zip(images, masks))"
   ]
  },
  {
   "cell_type": "code",
   "execution_count": 33,
   "id": "b89e9275",
   "metadata": {},
   "outputs": [],
   "source": [
    "# test_image = images[0]\n",
    "# test_mask = masks[0]\n",
    "\n",
    "# cleaned_mask = clean_mask(test_mask)\n",
    "# cut_image = cut_out_image(test_image, cleaned_mask)\n",
    "\n",
    "# plt.figure(figsize=(20, 10))\n",
    "\n",
    "# plt.subplot(1, 2, 1)\n",
    "# plt.imshow(test_image)\n",
    "# plt.axis(\"off\")\n",
    "# plt.title(\"Image\")\n",
    "\n",
    "# plt.subplot(1, 2, 2)\n",
    "# plt.imshow(cut_image)\n",
    "# plt.axis(\"off\")\n",
    "# plt.title(\"Cut out image\")\n",
    "\n",
    "# plt.show()"
   ]
  },
  {
   "cell_type": "code",
   "execution_count": 32,
   "id": "68bdce35",
   "metadata": {},
   "outputs": [],
   "source": [
    "# for image, mask in data:\n",
    "#     cleaned_mask = clean_mask(mask)\n",
    "#     cut_image = cut_out_image(image, cleaned_mask)\n",
    "#     image_normed = rescale_intensity(cut_image, out_range=(0, 1))\n",
    "\n",
    "#     labels, data_dict = model.predict_instances(image_normed, axes='YXC', prob_thresh=0.05, nms_thresh=0.3, return_labels=True)\n",
    "\n",
    "#     plt.figure(figsize=(24, 12))\n",
    "\n",
    "#     plt.subplot(1,2,1)\n",
    "#     plt.imshow(image, cmap=\"gray\")\n",
    "#     plt.axis(\"off\")\n",
    "#     plt.title(\"input image\")\n",
    "\n",
    "#     plt.subplot(1,2,2)\n",
    "#     plt.imshow(render_label(labels, img=image_normed, cmap=(1.0, 1.0, 0), alpha=0.6))\n",
    "#     plt.axis(\"off\")\n",
    "#     plt.title(\"prediction + input overlay\")\n",
    "\n",
    "#     plt.show()"
   ]
  },
  {
   "cell_type": "code",
   "execution_count": 8,
   "id": "5a8dd70c",
   "metadata": {},
   "outputs": [],
   "source": [
    "test_img, test_mask = data[0]\n",
    "\n",
    "test_cleaned_mask = clean_mask(test_mask)\n",
    "test_cut_image = cut_out_image(test_image, test_cleaned_mask)\n",
    "test_image_normed = rescale_intensity(test_cut_image, out_range=(0, 1))\n",
    "\n",
    "test_labels, test_data_dict = model.predict_instances(image_normed, axes='YXC', prob_thresh=0.05, nms_thresh=0.3, return_labels=True)"
   ]
  },
  {
   "cell_type": "code",
   "execution_count": 11,
   "id": "4fb1aa9a",
   "metadata": {},
   "outputs": [
    {
     "data": {
      "text/plain": [
       "(1920, 2560)"
      ]
     },
     "execution_count": 11,
     "metadata": {},
     "output_type": "execute_result"
    }
   ],
   "source": [
    "test_labels.shape"
   ]
  },
  {
   "cell_type": "code",
   "execution_count": 34,
   "id": "427dd2b8",
   "metadata": {},
   "outputs": [],
   "source": [
    "# plt.imshow(test_labels, cmap=\"grey\")"
   ]
  },
  {
   "cell_type": "code",
   "execution_count": null,
   "id": "df771eda",
   "metadata": {},
   "outputs": [],
   "source": [
    "def extract_stardist_features(labels, data_dict):\n",
    "    \"\"\"\n",
    "    Extract features from StarDist segmentation results\n",
    "    \n",
    "    Parameters:\n",
    "    -----------\n",
    "    labels : numpy.ndarray\n",
    "        Instance segmentation mask from StarDist\n",
    "    data_dict : dict\n",
    "        Dictionary returned by StarDist with 'coord', 'points', 'prob'\n",
    "    \n",
    "    Returns:\n",
    "    --------\n",
    "    pandas.DataFrame\n",
    "        DataFrame with features for each detected object\n",
    "    \"\"\"\n",
    "    \n",
    "    props = regionprops(labels)\n",
    "    \n",
    "    coordinates = data_dict.get('coord', [])\n",
    "    points = data_dict.get('points', [])\n",
    "    probabilities = data_dict.get('prob', [])\n",
    "    \n",
    "    features = []\n",
    "\n",
    "    for i, prop in enumerate(props):\n",
    "        feature_dict = {\n",
    "            'label_id': prop.label,\n",
    "            'area': prop.area,\n",
    "            'perimeter': prop.perimeter,\n",
    "            'centroid_y': prop.centroid[0],\n",
    "            'centroid_x': prop.centroid[1],\n",
    "            'bbox_min_row': prop.bbox[0],\n",
    "            'bbox_min_col': prop.bbox[1], \n",
    "            'bbox_max_row': prop.bbox[2],\n",
    "            'bbox_max_col': prop.bbox[3],\n",
    "            'eccentricity': prop.eccentricity,\n",
    "            'solidity': prop.solidity,\n",
    "            'extent': prop.extent,\n",
    "            'major_axis_length': prop.major_axis_length,\n",
    "            'minor_axis_length': prop.minor_axis_length,\n",
    "            'orientation': prop.orientation,\n",
    "            'equivalent_diameter': prop.equivalent_diameter,\n",
    "        }\n",
    "        \n",
    "        if i < len(probabilities):\n",
    "            feature_dict['stardist_probability'] = probabilities[i]\n",
    "        \n",
    "            \n",
    "        if i < len(coordinates):\n",
    "            feature_dict['stardist_center_y'] = coordinates[i][0] if len(coordinates[i]) > 0 else None\n",
    "            feature_dict['stardist_center_x'] = coordinates[i][1] if len(coordinates[i]) > 1 else None\n",
    "        \n",
    "        features.append(feature_dict)\n",
    "    \n",
    "    return pd.DataFrame(features)"
   ]
  },
  {
   "cell_type": "code",
   "execution_count": null,
   "id": "b29b71a0",
   "metadata": {},
   "outputs": [],
   "source": [
    "def get_segmentation_summary(labels, data_dict):\n",
    "    \"\"\"\n",
    "    Get summary statistics from StarDist segmentation\n",
    "    \"\"\"\n",
    "    features_df = extract_stardist_features(labels, data_dict)\n",
    "\n",
    "    summary = {\n",
    "        'total_objects': len(features_df),\n",
    "        'average_area': features_df['area'].mean(),\n",
    "        'median_area': features_df['area'].median(),\n",
    "        'std_area': features_df['area'].std(),\n",
    "        'average_probability': features_df['stardist_probability'].mean(),\n",
    "        'median_probability': features_df['stardist_probability'].median(),\n",
    "    }\n",
    "    \n",
    "    return summary"
   ]
  },
  {
   "cell_type": "code",
   "execution_count": null,
   "id": "186db3d3",
   "metadata": {},
   "outputs": [],
   "source": [
    "def visualize_segmentation()"
   ]
  },
  {
   "cell_type": "code",
   "execution_count": null,
   "id": "9b591426",
   "metadata": {},
   "outputs": [],
   "source": []
  }
 ],
 "metadata": {
  "kernelspec": {
   "display_name": "research_project",
   "language": "python",
   "name": "python3"
  },
  "language_info": {
   "codemirror_mode": {
    "name": "ipython",
    "version": 3
   },
   "file_extension": ".py",
   "mimetype": "text/x-python",
   "name": "python",
   "nbconvert_exporter": "python",
   "pygments_lexer": "ipython3",
   "version": "3.12.9"
  }
 },
 "nbformat": 4,
 "nbformat_minor": 5
}
