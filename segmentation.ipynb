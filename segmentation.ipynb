{
 "cells": [
  {
   "cell_type": "code",
   "execution_count": 6,
   "id": "5add38a4",
   "metadata": {},
   "outputs": [],
   "source": [
    "import tifffile\n",
    "import numpy as np\n",
    "import matplotlib.pyplot as plt\n",
    "import os\n",
    "from csbdeep.utils import normalize\n",
    "from stardist.models import StarDist2D\n",
    "from stardist.plot import render_label\n",
    "from utils.helpers import clean_mask, cut_out_image"
   ]
  },
  {
   "cell_type": "code",
   "execution_count": 7,
   "id": "17588ee5",
   "metadata": {},
   "outputs": [
    {
     "name": "stdout",
     "output_type": "stream",
     "text": [
      "Found model '2D_versatile_he' for 'StarDist2D'.\n",
      "Loading network weights from 'weights_best.h5'.\n",
      "Loading thresholds from 'thresholds.json'.\n",
      "Using default values: prob_thresh=0.692478, nms_thresh=0.3.\n"
     ]
    }
   ],
   "source": [
    "model = StarDist2D.from_pretrained('2D_versatile_he')"
   ]
  },
  {
   "cell_type": "code",
   "execution_count": 8,
   "id": "3845ed75",
   "metadata": {},
   "outputs": [],
   "source": [
    "image_paths = sorted([\"data/images/\"+path for path in os.listdir(\"data/images\") if not path.startswith(\".\")])\n",
    "mask_paths = sorted([\"data/masks/\"+path for path in os.listdir(\"data/masks\") if not path.startswith(\".\")])\n",
    "images = list(map(tifffile.imread, image_paths))\n",
    "masks = list(map(tifffile.imread, mask_paths))\n",
    "data = list(zip(images, masks))"
   ]
  },
  {
   "cell_type": "code",
   "execution_count": 50,
   "id": "b89e9275",
   "metadata": {},
   "outputs": [],
   "source": [
    "# test_image = images[0]\n",
    "# test_mask = masks[0]\n",
    "\n",
    "# cleaned_mask = clean_mask(test_mask)\n",
    "# cut_image = cut_out_image(test_image, cleaned_mask)\n",
    "\n",
    "# plt.figure(figsize=(20, 10))\n",
    "\n",
    "# plt.subplot(1, 2, 1)\n",
    "# plt.imshow(test_image)\n",
    "# plt.axis(\"off\")\n",
    "# plt.title(\"Image\")\n",
    "\n",
    "# plt.subplot(1, 2, 2)\n",
    "# plt.imshow(cut_image)\n",
    "# plt.axis(\"off\")\n",
    "# plt.title(\"Cut out image\")\n",
    "\n",
    "# plt.show()"
   ]
  },
  {
   "cell_type": "code",
   "execution_count": 51,
   "id": "42bd6900",
   "metadata": {},
   "outputs": [],
   "source": [
    "# from skimage.exposure import rescale_intensity\n",
    "\n",
    "# image_normed = rescale_intensity(cut_image, out_range=(0, 1))\n",
    "\n",
    "# print(f'Intensity range: [{image_normed.min()} - {image_normed.max()}]')\n",
    "# print(f'Array type: {image_normed.dtype}')\n",
    "\n",
    "# plt.imshow(image_normed)\n",
    "# plt.axis(\"off\")\n",
    "# plt.title(\"Normalized image\")\n",
    "# plt.show()"
   ]
  },
  {
   "cell_type": "code",
   "execution_count": 52,
   "id": "68bdce35",
   "metadata": {},
   "outputs": [],
   "source": [
    "# for image, mask in data:\n",
    "#     cleaned_mask = clean_mask(mask)\n",
    "#     cut_image = cut_out_image(image, cleaned_mask)\n",
    "#     image_normed = rescale_intensity(cut_image, out_range=(0, 1))\n",
    "\n",
    "#     labels, data_dict = model.predict_instances(image_normed, axes='YXC', prob_thresh=0.05, nms_thresh=0.3, return_labels=True)\n",
    "\n",
    "#     plt.figure(figsize=(24, 12))\n",
    "\n",
    "#     plt.subplot(1,2,1)\n",
    "#     plt.imshow(image, cmap=\"gray\")\n",
    "#     plt.axis(\"off\")\n",
    "#     plt.title(\"input image\")\n",
    "\n",
    "#     plt.subplot(1,2,2)\n",
    "#     plt.imshow(render_label(labels, img=image_normed, cmap=(1.0, 1.0, 0), alpha=0.6))\n",
    "#     plt.axis(\"off\")\n",
    "#     plt.title(\"prediction + input overlay\")\n",
    "\n",
    "#     plt.show()"
   ]
  },
  {
   "cell_type": "code",
   "execution_count": null,
   "id": "5a8dd70c",
   "metadata": {},
   "outputs": [],
   "source": []
  }
 ],
 "metadata": {
  "kernelspec": {
   "display_name": "research_project",
   "language": "python",
   "name": "python3"
  },
  "language_info": {
   "codemirror_mode": {
    "name": "ipython",
    "version": 3
   },
   "file_extension": ".py",
   "mimetype": "text/x-python",
   "name": "python",
   "nbconvert_exporter": "python",
   "pygments_lexer": "ipython3",
   "version": "3.12.9"
  }
 },
 "nbformat": 4,
 "nbformat_minor": 5
}
