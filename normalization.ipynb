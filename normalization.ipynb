{
 "cells": [
  {
   "cell_type": "code",
   "execution_count": 1,
   "id": "248991f7",
   "metadata": {},
   "outputs": [],
   "source": [
    "import tifffile\n",
    "import numpy as np\n",
    "import matplotlib.pyplot as plt\n",
    "import os\n",
    "import numpy as np\n",
    "\n",
    "from histomicstk.preprocessing.color_normalization import deconvolution_based_normalization\n",
    "from histomicstk.saliency.tissue_detection import (\n",
    "    get_slide_thumbnail, get_tissue_mask)\n",
    "from skimage.transform import resize\n",
    "\n",
    "from utils.helpers import compare_two_images, cut_out_image"
   ]
  },
  {
   "cell_type": "code",
   "execution_count": 2,
   "id": "358d5ddb",
   "metadata": {},
   "outputs": [],
   "source": [
    "image_paths = sorted([\"data/images/\"+path for path in os.listdir(\"data/images\") if not path.startswith(\".\")])"
   ]
  },
  {
   "cell_type": "code",
   "execution_count": 3,
   "id": "d8fb65d6",
   "metadata": {},
   "outputs": [],
   "source": [
    "images = list(map(tifffile.imread, image_paths))"
   ]
  },
  {
   "cell_type": "code",
   "execution_count": 4,
   "id": "4d2a2ceb",
   "metadata": {},
   "outputs": [
    {
     "data": {
      "text/plain": [
       "['E2+P4+DHT_4_M14_3L_0004.tif', 'E2+DHT_1_M13_3L_0001.tif']"
      ]
     },
     "execution_count": 4,
     "metadata": {},
     "output_type": "execute_result"
    }
   ],
   "source": [
    "os.listdir(\"data/reference/\")"
   ]
  },
  {
   "cell_type": "code",
   "execution_count": 39,
   "id": "0ede20ea",
   "metadata": {},
   "outputs": [],
   "source": [
    "# reference_image_1 = tifffile.imread(\"data/reference/E2+DHT_1_M13_3L_0001.tif\")\n",
    "# reference_image_2 = tifffile.imread(\"data/reference/E2+P4+DHT_4_M14_3L_0004.tif\")\n",
    "# compare_two_images(reference_image_1, reference_image_2)"
   ]
  },
  {
   "cell_type": "code",
   "execution_count": 29,
   "id": "3d851024",
   "metadata": {},
   "outputs": [],
   "source": [
    "def create_mask(img):\n",
    "    mask_out, _ = get_tissue_mask(\n",
    "    img, deconvolve_first=True,\n",
    "    n_thresholding_steps=1, sigma=1.5, min_size=30)\n",
    "\n",
    "    mask_out_fixed = resize(\n",
    "    mask_out == 0, output_shape=img.shape[:2],\n",
    "    order=0, preserve_range=True) == 1\n",
    "\n",
    "    return ~mask_out_fixed"
   ]
  },
  {
   "cell_type": "code",
   "execution_count": 20,
   "id": "1e632e7f",
   "metadata": {},
   "outputs": [],
   "source": [
    "reference_mask_1 = create_mask(reference_image_1)\n",
    "reference_mask_2 = create_mask(reference_image_2)"
   ]
  },
  {
   "cell_type": "code",
   "execution_count": 38,
   "id": "beea6aaf",
   "metadata": {},
   "outputs": [],
   "source": [
    "# cut_out_reference_1 = cut_out_image(reference_image_1, reference_mask_1)\n",
    "# cut_out_reference_2 = cut_out_image(reference_image_2, reference_mask_2)\n",
    "# compare_two_images(cut_out_reference_1, cut_out_reference_2)"
   ]
  },
  {
   "cell_type": "code",
   "execution_count": 22,
   "id": "533635cc",
   "metadata": {},
   "outputs": [],
   "source": [
    "def color_normalization_macenko(target_img, reference_img, mask=None, stains=['hematoxylin', 'eosin'], stain_unmixing_method='macenko_pca'):\n",
    "    stain_unmixing_routine_params = {\n",
    "        'stains': stains,\n",
    "        'stain_unmixing_method': stain_unmixing_method\n",
    "    }\n",
    "\n",
    "    normalized_target_img = deconvolution_based_normalization(\n",
    "            target_img, im_target=reference_img,\n",
    "            mask_out = mask,\n",
    "            stain_unmixing_routine_params=stain_unmixing_routine_params,)\n",
    "\n",
    "    return normalized_target_img"
   ]
  },
  {
   "cell_type": "code",
   "execution_count": 32,
   "id": "1178e75d",
   "metadata": {},
   "outputs": [],
   "source": [
    "masks = [create_mask(img) for img in images]"
   ]
  },
  {
   "cell_type": "code",
   "execution_count": 24,
   "id": "9f1a0281",
   "metadata": {},
   "outputs": [],
   "source": [
    "# compare_two_images(images[5], masks[5])"
   ]
  },
  {
   "cell_type": "markdown",
   "id": "8f7b655b",
   "metadata": {},
   "source": [
    "### Test Reference Image 1 without cutout"
   ]
  },
  {
   "cell_type": "code",
   "execution_count": 79,
   "id": "66f9e717",
   "metadata": {},
   "outputs": [],
   "source": [
    "normalized_images_1 = [color_normalization_macenko(image, reference_image_1, masks[i]) for i, image in enumerate(images)]"
   ]
  },
  {
   "cell_type": "code",
   "execution_count": 92,
   "id": "f6488c93",
   "metadata": {},
   "outputs": [],
   "source": [
    "# for img, norm_img in zip(images, normalized_images_1):\n",
    "#     plt.figure(figsize=(12, 6))\n",
    "\n",
    "#     plt.subplot(1, 2, 1)\n",
    "#     plt.axis(False)\n",
    "#     plt.title(\"Original image\")\n",
    "#     plt.imshow(img)\n",
    "\n",
    "#     plt.subplot(1, 2, 2)\n",
    "#     plt.axis(False)\n",
    "#     plt.title(\"Normalized image\")\n",
    "#     plt.imshow(norm_img)\n",
    "\n",
    "#     plt.show()"
   ]
  },
  {
   "cell_type": "markdown",
   "id": "59bf66b9",
   "metadata": {},
   "source": [
    "### Test reference image 2 without cutout"
   ]
  },
  {
   "cell_type": "code",
   "execution_count": 35,
   "id": "16517bec",
   "metadata": {},
   "outputs": [],
   "source": [
    "normalized_images_2 = [color_normalization_macenko(image, reference_image_2, masks[i]) for i, image in enumerate(images)]"
   ]
  },
  {
   "cell_type": "code",
   "execution_count": 37,
   "id": "b6d75d61",
   "metadata": {},
   "outputs": [],
   "source": [
    "# for img, norm_img in zip(images, normalized_images_2):\n",
    "#     plt.figure(figsize=(12, 6))\n",
    "\n",
    "#     plt.subplot(1, 2, 1)\n",
    "#     plt.axis(False)\n",
    "#     plt.title(\"Original image\")\n",
    "#     plt.imshow(img)\n",
    "\n",
    "#     plt.subplot(1, 2, 2)\n",
    "#     plt.axis(False)\n",
    "#     plt.title(\"Normalized image\")\n",
    "#     plt.imshow(norm_img)\n",
    "\n",
    "#     plt.show()"
   ]
  },
  {
   "cell_type": "markdown",
   "id": "ddd5d1d5",
   "metadata": {},
   "source": [
    "### Test reference image 1 with cut out"
   ]
  },
  {
   "cell_type": "code",
   "execution_count": 83,
   "id": "d9af1300",
   "metadata": {},
   "outputs": [],
   "source": [
    "normalized_images_1_cut = [color_normalization_macenko(image, cut_out_reference_1, masks[i]) for i, image in enumerate(images)]"
   ]
  },
  {
   "cell_type": "code",
   "execution_count": 94,
   "id": "64be2e5d",
   "metadata": {},
   "outputs": [],
   "source": [
    "# for img, norm_img in zip(images, normalized_images_1_cut):\n",
    "#     plt.figure(figsize=(12, 6))\n",
    "\n",
    "#     plt.subplot(1, 2, 1)\n",
    "#     plt.axis(False)\n",
    "#     plt.title(\"Original image\")\n",
    "#     plt.imshow(img)\n",
    "\n",
    "#     plt.subplot(1, 2, 2)\n",
    "#     plt.axis(False)\n",
    "#     plt.title(\"Normalized image\")\n",
    "#     plt.imshow(norm_img)\n",
    "\n",
    "#     plt.show()"
   ]
  },
  {
   "cell_type": "markdown",
   "id": "61b5707a",
   "metadata": {},
   "source": [
    "### Test reference 2 with cutout"
   ]
  },
  {
   "cell_type": "code",
   "execution_count": 85,
   "id": "d223398b",
   "metadata": {},
   "outputs": [],
   "source": [
    "normalized_images_2_cut = [color_normalization_macenko(image, cut_out_reference_2, masks[i]) for i, image in enumerate(images)]"
   ]
  },
  {
   "cell_type": "code",
   "execution_count": 95,
   "id": "3efa4b9a",
   "metadata": {},
   "outputs": [],
   "source": [
    "# for img, norm_img in zip(images, normalized_images_2_cut):\n",
    "#     plt.figure(figsize=(12, 6))\n",
    "\n",
    "#     plt.subplot(1, 2, 1)\n",
    "#     plt.axis(False)\n",
    "#     plt.title(\"Original image\")\n",
    "#     plt.imshow(img)\n",
    "\n",
    "#     plt.subplot(1, 2, 2)\n",
    "#     plt.axis(False)\n",
    "#     plt.title(\"Normalized image\")\n",
    "#     plt.imshow(norm_img)\n",
    "\n",
    "#     plt.show()"
   ]
  },
  {
   "cell_type": "markdown",
   "id": "b793dfdc",
   "metadata": {},
   "source": [
    "Reference image 2 without cutout seems to provide the best results!"
   ]
  },
  {
   "cell_type": "markdown",
   "id": "8c39613b",
   "metadata": {},
   "source": []
  }
 ],
 "metadata": {
  "kernelspec": {
   "display_name": "research_project",
   "language": "python",
   "name": "python3"
  },
  "language_info": {
   "codemirror_mode": {
    "name": "ipython",
    "version": 3
   },
   "file_extension": ".py",
   "mimetype": "text/x-python",
   "name": "python",
   "nbconvert_exporter": "python",
   "pygments_lexer": "ipython3",
   "version": "3.12.9"
  }
 },
 "nbformat": 4,
 "nbformat_minor": 5
}
