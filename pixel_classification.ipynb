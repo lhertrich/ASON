{
 "cells": [
  {
   "cell_type": "code",
   "execution_count": 8,
   "id": "16e2bd44",
   "metadata": {},
   "outputs": [],
   "source": [
    "import tifffile\n",
    "import numpy as np\n",
    "import matplotlib.pyplot as plt\n",
    "import os\n",
    "import numpy as np\n",
    "\n",
    "from histomicstk.preprocessing.color_normalization import deconvolution_based_normalization\n",
    "from histomicstk.saliency.tissue_detection import (\n",
    "    get_slide_thumbnail, get_tissue_mask)\n",
    "from skimage.transform import resize\n",
    "\n",
    "from utils.helpers import compare_two_images, cut_out_image"
   ]
  },
  {
   "cell_type": "code",
   "execution_count": 15,
   "id": "f2482746",
   "metadata": {},
   "outputs": [],
   "source": [
    "segmentation_paths = sorted([\"data/segmentations/\"+path for path in os.listdir(\"data/segmentations/\") if not path.startswith(\".\")])"
   ]
  },
  {
   "cell_type": "code",
   "execution_count": 16,
   "id": "bf367a35",
   "metadata": {},
   "outputs": [],
   "source": [
    "segmentations = list(map(tifffile.imread, image_paths))"
   ]
  },
  {
   "cell_type": "code",
   "execution_count": 99,
   "id": "3ad3f171",
   "metadata": {},
   "outputs": [],
   "source": [
    "def match_image_to_segmentation(image_path):\n",
    "    \"\"\"\n",
    "    Convert image path to corresponding segmentation path\n",
    "    \"\"\"\n",
    "    seg_path = image_path.replace('data/images/', 'data/segmentations/normalized_')\n",
    "    seg_path = seg_path.replace('.tif', '_segmented.tif')\n",
    "    return seg_path"
   ]
  },
  {
   "cell_type": "code",
   "execution_count": 98,
   "id": "0811be65",
   "metadata": {},
   "outputs": [
    {
     "data": {
      "text/plain": [
       "['data/segmentations/normalized_CTRL_1_M1_3R__0004_segmented.tif',\n",
       " 'data/segmentations/normalized_CTRL_3_M2_4R__0006_segmented.tif',\n",
       " 'data/segmentations/normalized_CTRL_4_M6_3L__0008_segmented.tif',\n",
       " 'data/segmentations/normalized_E2+DHT_1_M13_3L_0010_segmented.tif',\n",
       " 'data/segmentations/normalized_E2+DHT_2_M10_3R_0002_segmented.tif',\n",
       " 'data/segmentations/normalized_E2+P4_3_M12_3R_0001_segmented.tif',\n",
       " 'data/segmentations/normalized_E2_1_M8_3L_0011_segmented.tif',\n",
       " 'data/segmentations/normalized_E2_2_M11_4R_0001_segmented.tif']"
      ]
     },
     "execution_count": 98,
     "metadata": {},
     "output_type": "execute_result"
    }
   ],
   "source": [
    "segmentation_paths"
   ]
  },
  {
   "cell_type": "code",
   "execution_count": 100,
   "id": "2f4c4d0f",
   "metadata": {},
   "outputs": [
    {
     "data": {
      "text/plain": [
       "['data/images/CTRL_1_M1_3R__0004.tif',\n",
       " 'data/images/CTRL_2_M6_3R__0002.tif',\n",
       " 'data/images/CTRL_3_M2_4R__0006.tif',\n",
       " 'data/images/CTRL_4_M6_3L__0008.tif',\n",
       " 'data/images/E2+DHT_1_M13_3L_0001.tif',\n",
       " 'data/images/E2+DHT_1_M13_3L_0010.tif',\n",
       " 'data/images/E2+DHT_2_M10_3R_0002.tif',\n",
       " 'data/images/E2+DHT_2_M13_4L_0004.tif',\n",
       " 'data/images/E2+P4+DHT_1_M7_3L_0002.tif',\n",
       " 'data/images/E2+P4+DHT_1_M7_3L_0013.tif',\n",
       " 'data/images/E2+P4+DHT_1_M7_3L_0019.tif',\n",
       " 'data/images/E2+P4+DHT_4_M14_3L_0003.tif',\n",
       " 'data/images/E2+P4_2_M9_3R_0003.tif',\n",
       " 'data/images/E2+P4_3_M12_3R_0001.tif',\n",
       " 'data/images/E2+P4_3_M12_3R_0002.tif',\n",
       " 'data/images/E2+P4_3_M12_3R_0005.tif',\n",
       " 'data/images/E2_1_M8_3L_0005.tif',\n",
       " 'data/images/E2_1_M8_3L_0011.tif',\n",
       " 'data/images/E2_2_M11_4R_0001.tif',\n",
       " 'data/images/E2_3_M5_4L_0001.tif']"
      ]
     },
     "execution_count": 100,
     "metadata": {},
     "output_type": "execute_result"
    }
   ],
   "source": [
    "image_paths = sorted([\"data/images/\"+path for path in os.listdir(\"data/images/\") if not path.startswith(\".\")])\n",
    "image_paths"
   ]
  },
  {
   "cell_type": "code",
   "execution_count": 101,
   "id": "94cb6526",
   "metadata": {},
   "outputs": [
    {
     "data": {
      "text/plain": [
       "['data/images/CTRL_1_M1_3R__0004.tif',\n",
       " 'data/images/CTRL_3_M2_4R__0006.tif',\n",
       " 'data/images/CTRL_4_M6_3L__0008.tif',\n",
       " 'data/images/E2+DHT_1_M13_3L_0010.tif',\n",
       " 'data/images/E2+DHT_2_M10_3R_0002.tif',\n",
       " 'data/images/E2+P4_3_M12_3R_0001.tif',\n",
       " 'data/images/E2_1_M8_3L_0011.tif',\n",
       " 'data/images/E2_2_M11_4R_0001.tif']"
      ]
     },
     "execution_count": 101,
     "metadata": {},
     "output_type": "execute_result"
    }
   ],
   "source": [
    "filtered_image_paths = sorted([path for path in image_paths if match_image_to_segmentation(path) in segmentation_paths])\n",
    "filtered_image_paths"
   ]
  },
  {
   "cell_type": "code",
   "execution_count": 102,
   "id": "c40d24a0",
   "metadata": {},
   "outputs": [],
   "source": [
    "images = list(map(tifffile.imread, filtered_image_paths))"
   ]
  },
  {
   "cell_type": "code",
   "execution_count": 157,
   "id": "aef0a0dd",
   "metadata": {},
   "outputs": [],
   "source": [
    "# compare_two_images(segmentations[0], images[0])"
   ]
  },
  {
   "cell_type": "code",
   "execution_count": null,
   "id": "1eecec12",
   "metadata": {},
   "outputs": [],
   "source": [
    "from skimage import color, filters, feature, img_as_ubyte\n",
    "\n",
    "def extract_features(image):\n",
    "    \"\"\"Extracts color + texture + edge features per pixel.\"\"\"\n",
    "    img_lab = color.rgb2lab(image)\n",
    "    gray = color.rgb2gray(image)\n",
    "    gray_uint8 = img_as_ubyte(gray)\n",
    "    \n",
    "    features = []\n",
    "    # Raw color channels\n",
    "    for i in range(3):\n",
    "        features.append(image[..., i])\n",
    "    for i in range(3):\n",
    "        features.append(img_lab[..., i])\n",
    "        \n",
    "    # Smoothed color (Gaussian)\n",
    "    for sigma in [1, 3]:\n",
    "        features.append(filters.gaussian(gray, sigma))\n",
    "    \n",
    "    # Edges\n",
    "    features.append(filters.sobel(gray))\n",
    "    \n",
    "    # Local Binary Pattern (texture)\n",
    "    lbp = feature.local_binary_pattern(gray_uint8, P=8, R=1, method='uniform')\n",
    "    features.append(lbp)\n",
    "    \n",
    "    feat_stack = np.stack(features, axis=-1)\n",
    "    return feat_stack\n",
    "\n",
    "feat_stack = extract_features(images[0])"
   ]
  },
  {
   "cell_type": "code",
   "execution_count": 158,
   "id": "8c5a9f17",
   "metadata": {},
   "outputs": [],
   "source": [
    "# import matplotlib.pyplot as plt\n",
    "\n",
    "# num_features_to_show = 6\n",
    "# fig, axes = plt.subplots(1, num_features_to_show, figsize=(15, 5))\n",
    "\n",
    "# for i in range(num_features_to_show):\n",
    "#     ax = axes[i]\n",
    "#     ax.imshow(feat_stack[..., i], cmap='gray')\n",
    "#     ax.set_title(f'Feature {i}')\n",
    "#     ax.axis('off')\n",
    "\n",
    "# plt.tight_layout()\n",
    "# plt.show()"
   ]
  },
  {
   "cell_type": "code",
   "execution_count": null,
   "id": "218efa28",
   "metadata": {},
   "outputs": [
    {
     "name": "stdout",
     "output_type": "stream",
     "text": [
      "Training data shape: (400000, 10) (400000,)\n"
     ]
    }
   ],
   "source": [
    "import numpy as np\n",
    "from sklearn.ensemble import RandomForestClassifier\n",
    "from sklearn.model_selection import train_test_split\n",
    "from sklearn.metrics import classification_report\n",
    "\n",
    "X_all, y_all = [], []\n",
    "\n",
    "for img, mask in zip(images, segmentations):\n",
    "    feat_stack = extract_features(img)\n",
    "    H, W, F = feat_stack.shape\n",
    "\n",
    "    mask[mask == 2] = 0\n",
    "\n",
    "    X = feat_stack.reshape(-1, F)\n",
    "    y = mask.reshape(-1)\n",
    "\n",
    "    class0_idx = np.where(y == 0)[0]\n",
    "    class1_idx = np.where(y == 1)[0]\n",
    "\n",
    "    n_samples_per_class = min(len(class0_idx), len(class1_idx), 25000)\n",
    "    sampled_idx = np.concatenate([\n",
    "        np.random.choice(class0_idx, n_samples_per_class, replace=False),\n",
    "        np.random.choice(class1_idx, n_samples_per_class, replace=False)\n",
    "    ])\n",
    "\n",
    "    X_sample = X[sampled_idx]\n",
    "    y_sample = y[sampled_idx]\n",
    "\n",
    "    X_all.append(X_sample)\n",
    "    y_all.append(y_sample)\n",
    "\n",
    "X_all = np.concatenate(X_all)\n",
    "y_all = np.concatenate(y_all)\n",
    "\n",
    "print(\"Training data shape:\", X_all.shape, y_all.shape)\n"
   ]
  },
  {
   "cell_type": "code",
   "execution_count": 121,
   "id": "a1c839a8",
   "metadata": {},
   "outputs": [
    {
     "name": "stdout",
     "output_type": "stream",
     "text": [
      "              precision    recall  f1-score   support\n",
      "\n",
      "           0       0.95      0.87      0.91     40000\n",
      "           1       0.88      0.95      0.92     40000\n",
      "\n",
      "    accuracy                           0.91     80000\n",
      "   macro avg       0.92      0.91      0.91     80000\n",
      "weighted avg       0.92      0.91      0.91     80000\n",
      "\n"
     ]
    }
   ],
   "source": [
    "clf = RandomForestClassifier(\n",
    "    n_estimators=200,\n",
    "    max_depth=None,\n",
    "    class_weight=\"balanced\",\n",
    "    n_jobs=-1,\n",
    "    random_state=0\n",
    ")\n",
    "\n",
    "X_train, X_val, y_train, y_val = train_test_split(\n",
    "    X_all, y_all, test_size=0.2, stratify=y_all, random_state=0\n",
    ")\n",
    "\n",
    "clf.fit(X_train, y_train)\n",
    "\n",
    "y_pred = clf.predict(X_val)\n",
    "print(classification_report(y_val, y_pred))"
   ]
  },
  {
   "cell_type": "code",
   "execution_count": null,
   "id": "81e0d981",
   "metadata": {},
   "outputs": [],
   "source": [
    "def predict_mask(image, model):\n",
    "    \"\"\"Predicts a pixelwise mask (0,1,2) for an H&E image.\"\"\"\n",
    "    feat_stack = extract_features(image)\n",
    "    H, W, F = feat_stack.shape\n",
    "    \n",
    "    X = feat_stack.reshape(-1, F)\n",
    "    \n",
    "    y_pred = model.predict(X)\n",
    "    \n",
    "    pred_mask = y_pred.reshape(H, W)\n",
    "    return pred_mask"
   ]
  },
  {
   "cell_type": "code",
   "execution_count": 123,
   "id": "a2f0a7f8",
   "metadata": {},
   "outputs": [
    {
     "data": {
      "text/plain": [
       "array([0, 1], dtype=uint8)"
      ]
     },
     "execution_count": 123,
     "metadata": {},
     "output_type": "execute_result"
    }
   ],
   "source": [
    "test_img = images[1]\n",
    "test_pred = predict_mask(test_img, clf)\n",
    "np.unique(test_pred)"
   ]
  },
  {
   "cell_type": "code",
   "execution_count": 159,
   "id": "83de27c2",
   "metadata": {},
   "outputs": [],
   "source": [
    "# compare_two_images(test_pred, test_img)"
   ]
  },
  {
   "cell_type": "code",
   "execution_count": 151,
   "id": "a52c809b",
   "metadata": {},
   "outputs": [],
   "source": [
    "from skimage.morphology import remove_small_objects, remove_small_holes, binary_closing, disk\n",
    "from skimage.transform import resize\n",
    "\n",
    "def clean_mask(mask):\n",
    "    mask = mask.astype(bool)\n",
    "    mask = remove_small_objects(mask, min_size=10000)\n",
    "    mask = remove_small_holes(mask, area_threshold=1000)\n",
    "    rad = disk(radius=2)\n",
    "    smoothed_mask = binary_closing(mask, rad)\n",
    "    return smoothed_mask"
   ]
  },
  {
   "cell_type": "code",
   "execution_count": 160,
   "id": "ca78bd91",
   "metadata": {},
   "outputs": [],
   "source": [
    "# clean_test_pred = clean_mask(test_pred)\n",
    "# compare_two_images(clean_test_pred, test_img)"
   ]
  },
  {
   "cell_type": "code",
   "execution_count": 161,
   "id": "49dc612d",
   "metadata": {},
   "outputs": [],
   "source": [
    "# for img in images:\n",
    "#     plt.figure(figsize=(12, 6))\n",
    "\n",
    "#     pred_mask = predict_mask(img, clf)\n",
    "#     pred_mask = clean_mask(pred_mask)\n",
    "\n",
    "#     compare_two_images(pred_mask, img, \"Predicted mask\", \"Original image\")"
   ]
  },
  {
   "cell_type": "code",
   "execution_count": 156,
   "id": "b76b95fd",
   "metadata": {},
   "outputs": [
    {
     "data": {
      "text/plain": [
       "['models/decision_tree_model.joblib']"
      ]
     },
     "execution_count": 156,
     "metadata": {},
     "output_type": "execute_result"
    }
   ],
   "source": [
    "from joblib import dump\n",
    "from pathlib import Path\n",
    "\n",
    "model_dir = Path('models')\n",
    "model_dir.mkdir(parents=True, exist_ok=True)\n",
    "\n",
    "dump(clf, model_dir / 'decision_tree_model.joblib')"
   ]
  },
  {
   "cell_type": "code",
   "execution_count": null,
   "id": "07718262",
   "metadata": {},
   "outputs": [],
   "source": []
  }
 ],
 "metadata": {
  "kernelspec": {
   "display_name": "research_project",
   "language": "python",
   "name": "python3"
  },
  "language_info": {
   "codemirror_mode": {
    "name": "ipython",
    "version": 3
   },
   "file_extension": ".py",
   "mimetype": "text/x-python",
   "name": "python",
   "nbconvert_exporter": "python",
   "pygments_lexer": "ipython3",
   "version": "3.12.9"
  }
 },
 "nbformat": 4,
 "nbformat_minor": 5
}
